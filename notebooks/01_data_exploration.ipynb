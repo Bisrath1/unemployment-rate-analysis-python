{
 "cells": [
  {
   "cell_type": "code",
   "execution_count": 1,
   "id": "a2d86174",
   "metadata": {},
   "outputs": [
    {
     "name": "stdout",
     "output_type": "stream",
     "text": [
      "Dataset 1 shape: (768, 7)\n",
      "Dataset 2 shape: (267, 9)\n"
     ]
    },
    {
     "data": {
      "text/plain": [
       "(           Region         Date  Frequency   Estimated Unemployment Rate (%)  \\\n",
       " 0  Andhra Pradesh   31-05-2019    Monthly                              3.65   \n",
       " 1  Andhra Pradesh   30-06-2019    Monthly                              3.05   \n",
       " 2  Andhra Pradesh   31-07-2019    Monthly                              3.75   \n",
       " 3  Andhra Pradesh   31-08-2019    Monthly                              3.32   \n",
       " 4  Andhra Pradesh   30-09-2019    Monthly                              5.17   \n",
       " \n",
       "     Estimated Employed   Estimated Labour Participation Rate (%)   Area  \n",
       " 0           11999139.0                                     43.24  Rural  \n",
       " 1           11755881.0                                     42.05  Rural  \n",
       " 2           12086707.0                                     43.50  Rural  \n",
       " 3           12285693.0                                     43.97  Rural  \n",
       " 4           12256762.0                                     44.68  Rural  ,\n",
       "            Region         Date  Frequency   Estimated Unemployment Rate (%)  \\\n",
       " 0  Andhra Pradesh   31-01-2020          M                              5.48   \n",
       " 1  Andhra Pradesh   29-02-2020          M                              5.83   \n",
       " 2  Andhra Pradesh   31-03-2020          M                              5.79   \n",
       " 3  Andhra Pradesh   30-04-2020          M                             20.51   \n",
       " 4  Andhra Pradesh   31-05-2020          M                             17.43   \n",
       " \n",
       "     Estimated Employed   Estimated Labour Participation Rate (%) Region.1  \\\n",
       " 0             16635535                                     41.02    South   \n",
       " 1             16545652                                     40.90    South   \n",
       " 2             15881197                                     39.18    South   \n",
       " 3             11336911                                     33.10    South   \n",
       " 4             12988845                                     36.46    South   \n",
       " \n",
       "    longitude  latitude  \n",
       " 0    15.9129     79.74  \n",
       " 1    15.9129     79.74  \n",
       " 2    15.9129     79.74  \n",
       " 3    15.9129     79.74  \n",
       " 4    15.9129     79.74  )"
      ]
     },
     "execution_count": 1,
     "metadata": {},
     "output_type": "execute_result"
    }
   ],
   "source": [
    "import pandas as pd\n",
    "import numpy as np\n",
    "import matplotlib.pyplot as plt\n",
    "import seaborn as sns\n",
    "import plotly.express as px\n",
    "\n",
    "# File paths\n",
    "file1 = r\"C:\\10x AIMastery\\unemployment-rate-analysis-python\\data\\Unemployment in India.csv\"\n",
    "file2 = r\"C:\\10x AIMastery\\unemployment-rate-analysis-python\\data\\Unemployment_Rate_upto_11_2020.csv\"\n",
    "\n",
    "# Load datasets\n",
    "df1 = pd.read_csv(file1)\n",
    "df2 = pd.read_csv(file2)\n",
    "\n",
    "# Preview data\n",
    "print(\"Dataset 1 shape:\", df1.shape)\n",
    "print(\"Dataset 2 shape:\", df2.shape)\n",
    "\n",
    "df1.head(), df2.head()\n"
   ]
  },
  {
   "cell_type": "code",
   "execution_count": 2,
   "id": "2be0e975",
   "metadata": {},
   "outputs": [
    {
     "name": "stdout",
     "output_type": "stream",
     "text": [
      "Dataset 1 Columns: Index(['Region', ' Date', ' Frequency', ' Estimated Unemployment Rate (%)',\n",
      "       ' Estimated Employed', ' Estimated Labour Participation Rate (%)',\n",
      "       'Area'],\n",
      "      dtype='object')\n",
      "Dataset 2 Columns: Index(['Region', ' Date', ' Frequency', ' Estimated Unemployment Rate (%)',\n",
      "       ' Estimated Employed', ' Estimated Labour Participation Rate (%)',\n",
      "       'Region.1', 'longitude', 'latitude'],\n",
      "      dtype='object')\n",
      "\n",
      "Dataset 1 Missing Values:\n",
      " Region                                      28\n",
      " Date                                       28\n",
      " Frequency                                  28\n",
      " Estimated Unemployment Rate (%)            28\n",
      " Estimated Employed                         28\n",
      " Estimated Labour Participation Rate (%)    28\n",
      "Area                                        28\n",
      "dtype: int64\n",
      "\n",
      "Dataset 2 Missing Values:\n",
      " Region                                      0\n",
      " Date                                       0\n",
      " Frequency                                  0\n",
      " Estimated Unemployment Rate (%)            0\n",
      " Estimated Employed                         0\n",
      " Estimated Labour Participation Rate (%)    0\n",
      "Region.1                                    0\n",
      "longitude                                   0\n",
      "latitude                                    0\n",
      "dtype: int64\n",
      "\n",
      "Dataset 1 Stats:\n",
      "        Estimated Unemployment Rate (%)  Estimated Employed  \\\n",
      "count                       740.000000        7.400000e+02   \n",
      "mean                         11.787946        7.204460e+06   \n",
      "std                          10.721298        8.087988e+06   \n",
      "min                           0.000000        4.942000e+04   \n",
      "25%                           4.657500        1.190404e+06   \n",
      "50%                           8.350000        4.744178e+06   \n",
      "75%                          15.887500        1.127549e+07   \n",
      "max                          76.740000        4.577751e+07   \n",
      "\n",
      "       Estimated Labour Participation Rate (%)  \n",
      "count                               740.000000  \n",
      "mean                                 42.630122  \n",
      "std                                   8.111094  \n",
      "min                                  13.330000  \n",
      "25%                                  38.062500  \n",
      "50%                                  41.160000  \n",
      "75%                                  45.505000  \n",
      "max                                  72.570000  \n",
      "\n",
      "Dataset 2 Stats:\n",
      "         Estimated Unemployment Rate (%)   Estimated Employed  \\\n",
      "count                        267.000000         2.670000e+02   \n",
      "mean                          12.236929         1.396211e+07   \n",
      "std                           10.803283         1.336632e+07   \n",
      "min                            0.500000         1.175420e+05   \n",
      "25%                            4.845000         2.838930e+06   \n",
      "50%                            9.650000         9.732417e+06   \n",
      "75%                           16.755000         2.187869e+07   \n",
      "max                           75.850000         5.943376e+07   \n",
      "\n",
      "        Estimated Labour Participation Rate (%)   longitude    latitude  \n",
      "count                                267.000000  267.000000  267.000000  \n",
      "mean                                  41.681573   22.826048   80.532425  \n",
      "std                                    7.845419    6.270731    5.831738  \n",
      "min                                   16.770000   10.850500   71.192400  \n",
      "25%                                   37.265000   18.112400   76.085600  \n",
      "50%                                   40.390000   23.610200   79.019300  \n",
      "75%                                   44.055000   27.278400   85.279900  \n",
      "max                                   69.690000   33.778200   92.937600  \n"
     ]
    }
   ],
   "source": [
    "# Check column names\n",
    "print(\"Dataset 1 Columns:\", df1.columns)\n",
    "print(\"Dataset 2 Columns:\", df2.columns)\n",
    "\n",
    "# Check missing values\n",
    "print(\"\\nDataset 1 Missing Values:\\n\", df1.isnull().sum())\n",
    "print(\"\\nDataset 2 Missing Values:\\n\", df2.isnull().sum())\n",
    "\n",
    "# Quick stats\n",
    "print(\"\\nDataset 1 Stats:\\n\", df1.describe())\n",
    "print(\"\\nDataset 2 Stats:\\n\", df2.describe())\n"
   ]
  },
  {
   "cell_type": "code",
   "execution_count": 3,
   "id": "6ac63c19",
   "metadata": {},
   "outputs": [],
   "source": [
    "df1.columns = df1.columns.str.strip()\n",
    "df2.columns = df2.columns.str.strip()\n"
   ]
  },
  {
   "cell_type": "code",
   "execution_count": 4,
   "id": "4b3db824",
   "metadata": {},
   "outputs": [],
   "source": [
    "df1['Date'] = pd.to_datetime(df1['Date'], dayfirst=True)\n",
    "df2['Date'] = pd.to_datetime(df2['Date'], dayfirst=True)\n"
   ]
  },
  {
   "cell_type": "code",
   "execution_count": 5,
   "id": "023c361e",
   "metadata": {},
   "outputs": [],
   "source": [
    "df1.rename(columns={'Estimated Unemployment Rate (%)': 'Unemployment_Rate'}, inplace=True)\n",
    "df2.rename(columns={'Estimated Unemployment Rate (%)': 'Unemployment_Rate'}, inplace=True)\n"
   ]
  },
  {
   "cell_type": "code",
   "execution_count": 6,
   "id": "da043f90",
   "metadata": {},
   "outputs": [
    {
     "name": "stdout",
     "output_type": "stream",
     "text": [
      "Combined dataset shape: (1035, 10)\n"
     ]
    }
   ],
   "source": [
    "df = pd.concat([df1, df2], ignore_index=True)\n",
    "df.to_csv(r\"C:\\10x AIMastery\\unemployment-rate-analysis-python\\outputs\\cleaned_unemployment.csv\", index=False)\n",
    "print(\"Combined dataset shape:\", df.shape)\n"
   ]
  },
  {
   "cell_type": "code",
   "execution_count": null,
   "id": "855d7107",
   "metadata": {},
   "outputs": [],
   "source": []
  }
 ],
 "metadata": {
  "kernelspec": {
   "display_name": "venv",
   "language": "python",
   "name": "python3"
  },
  "language_info": {
   "codemirror_mode": {
    "name": "ipython",
    "version": 3
   },
   "file_extension": ".py",
   "mimetype": "text/x-python",
   "name": "python",
   "nbconvert_exporter": "python",
   "pygments_lexer": "ipython3",
   "version": "3.11.9"
  }
 },
 "nbformat": 4,
 "nbformat_minor": 5
}
